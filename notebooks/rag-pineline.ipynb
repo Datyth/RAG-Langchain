{
 "cells": [
  {
   "cell_type": "markdown",
   "metadata": {},
   "source": [
    "### 1. Data Ingestion to Vector database "
   ]
  },
  {
   "cell_type": "markdown",
   "metadata": {},
   "source": [
    "1.1. Read documents "
   ]
  },
  {
   "cell_type": "code",
   "execution_count": 5,
   "metadata": {},
   "outputs": [],
   "source": [
    "import os\n",
    "from pathlib import Path\n",
    "\n",
    "from langchain_core.documents import Document\n",
    "from langchain_community.document_loaders import PyMuPDFLoader, DirectoryLoader\n",
    "from langchain.text_splitter import RecursiveCharacterTextSplitter"
   ]
  },
  {
   "cell_type": "code",
   "execution_count": 13,
   "metadata": {},
   "outputs": [],
   "source": [
    "def process_all_documents(pdf_dir):\n",
    "    all_documents = []\n",
    "    pdf_dir = Path(pdf_dir)\n",
    "\n",
    "    pdf_files = list(pdf_dir.glob('*.pdf'))\n",
    "    print(f\"Found {len(pdf_files)} PDF files in {pdf_dir}\")\n",
    "\n",
    "    for pdf_file in pdf_files:\n",
    "        print(f'Processing file {pdf_file}')\n",
    "        try:\n",
    "            loader = PyMuPDFLoader(str(pdf_file))\n",
    "            documents = loader.load()\n",
    "\n",
    "            for document in documents:\n",
    "                metadata = document.metadata\n",
    "                metadata['source'] = str(pdf_file)\n",
    "                document.metadata = metadata\n",
    "                all_documents.append(document)\n",
    "            print(f'Loaded {len(documents)} pages')\n",
    "        except Exception as e:\n",
    "            print(f\"Error processing file {pdf_file}: {e}\")\n",
    "    \n",
    "    print(f'Total documents: {len(all_documents)}')\n",
    "\n",
    "    return all_documents"
   ]
  },
  {
   "cell_type": "code",
   "execution_count": 14,
   "metadata": {},
   "outputs": [
    {
     "name": "stdout",
     "output_type": "stream",
     "text": [
      "Found 3 PDF files in ..\\data\\pdf\n",
      "Processing file ..\\data\\pdf\\attention-is-all-you-need.pdf\n",
      "Loaded 11 pages\n",
      "Processing file ..\\data\\pdf\\Deep_Residual_Learning_CVPR_2016_paper.pdf\n",
      "Loaded 9 pages\n",
      "Processing file ..\\data\\pdf\\Generic Algorithm.pdf\n",
      "Loaded 4 pages\n",
      "Total documents: 24\n"
     ]
    }
   ],
   "source": [
    "pdf_dir = '../data/pdf/'\n",
    "all_documents = process_all_documents(pdf_dir)"
   ]
  },
  {
   "cell_type": "code",
   "execution_count": 17,
   "metadata": {},
   "outputs": [
    {
     "name": "stdout",
     "output_type": "stream",
     "text": [
      "<class 'langchain_core.documents.base.Document'>\n"
     ]
    }
   ],
   "source": [
    "print(type(all_documents[0]))"
   ]
  },
  {
   "cell_type": "markdown",
   "metadata": {},
   "source": [
    "1.2 Chunking"
   ]
  },
  {
   "cell_type": "code",
   "execution_count": 22,
   "metadata": {},
   "outputs": [
    {
     "name": "stdout",
     "output_type": "stream",
     "text": [
      "Total splitted documents splitted from 24 documents: 104 chunks\n",
      "First splitted document content:\n",
      "Attention Is All You Need\n",
      "Ashish Vaswani∗\n",
      "Google B\n",
      "\n"
     ]
    }
   ],
   "source": [
    "def split_documents(documents, chunk_size = 1000, chunk_overlap = 100):\n",
    "    splitter = RecursiveCharacterTextSplitter(\n",
    "        chunk_size = chunk_size,\n",
    "        chunk_overlap = chunk_overlap,\n",
    "        length_function = len,\n",
    "        separators=[\"\\n\\n\", \"\\n\", \" \", \"\"]\n",
    "    )\n",
    "\n",
    "    splitted_docs = splitter.split_documents(documents)\n",
    "    if splitted_docs:\n",
    "        print(f'Total splitted documents splitted from {len(documents)} documents: {len(splitted_docs)} chunks')\n",
    "        print(f'First splitted document content:\\n{splitted_docs[0].page_content[:50]}\\n')\n",
    "    else:\n",
    "        print('No documents were splitted. Please check the input documents.')\n",
    "    return splitted_docs\n",
    "\n",
    "chunks = split_documents(all_documents)"
   ]
  },
  {
   "cell_type": "markdown",
   "metadata": {},
   "source": [
    "1.3. Embedding all documents"
   ]
  },
  {
   "cell_type": "code",
   "execution_count": 23,
   "metadata": {},
   "outputs": [
    {
     "name": "stderr",
     "output_type": "stream",
     "text": [
      "d:\\AI_PROJECT\\traditional-rag\\.venv\\Lib\\site-packages\\tqdm\\auto.py:21: TqdmWarning: IProgress not found. Please update jupyter and ipywidgets. See https://ipywidgets.readthedocs.io/en/stable/user_install.html\n",
      "  from .autonotebook import tqdm as notebook_tqdm\n"
     ]
    }
   ],
   "source": [
    "import numpy as np\n",
    "from sentence_transformers import SentenceTransformer\n",
    "import chromadb\n",
    "from chromadb.config import Settings\n",
    "import uuid\n",
    "from typing import List, Dict, Any, Tuple\n",
    "from sklearn.metrics.pairwise import cosine_similarity"
   ]
  },
  {
   "cell_type": "code",
   "execution_count": null,
   "metadata": {},
   "outputs": [],
   "source": []
  },
  {
   "cell_type": "code",
   "execution_count": null,
   "metadata": {},
   "outputs": [],
   "source": []
  },
  {
   "cell_type": "code",
   "execution_count": null,
   "metadata": {},
   "outputs": [],
   "source": []
  },
  {
   "cell_type": "code",
   "execution_count": null,
   "metadata": {},
   "outputs": [],
   "source": []
  }
 ],
 "metadata": {
  "kernelspec": {
   "display_name": ".venv",
   "language": "python",
   "name": "python3"
  },
  "language_info": {
   "codemirror_mode": {
    "name": "ipython",
    "version": 3
   },
   "file_extension": ".py",
   "mimetype": "text/x-python",
   "name": "python",
   "nbconvert_exporter": "python",
   "pygments_lexer": "ipython3",
   "version": "3.13.5"
  }
 },
 "nbformat": 4,
 "nbformat_minor": 2
}
