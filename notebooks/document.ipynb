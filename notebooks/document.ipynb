{
 "cells": [
  {
   "cell_type": "markdown",
   "metadata": {},
   "source": [
    "### Explore Langchain Document"
   ]
  },
  {
   "cell_type": "code",
   "execution_count": 1,
   "metadata": {},
   "outputs": [],
   "source": [
    "from langchain_core.documents import Document"
   ]
  },
  {
   "cell_type": "code",
   "execution_count": 9,
   "metadata": {},
   "outputs": [],
   "source": [
    "doc = Document(\n",
    "    page_content = \"The main content of the document\",\n",
    "    metadata = {\n",
    "        \"author\": \"Alex Dat\",\n",
    "        \"creation_date\": \"2025-17-10\",\n",
    "        \"keywords\": [\"example\", \"document\", \"metadata\"]\n",
    "    }\n",
    ")"
   ]
  },
  {
   "cell_type": "code",
   "execution_count": 10,
   "metadata": {},
   "outputs": [
    {
     "name": "stdout",
     "output_type": "stream",
     "text": [
      "Content: The main content of the document\n",
      "Metadata: {'author': 'Alex Dat', 'creation_date': '2025-17-10', 'keywords': ['example', 'document', 'metadata']}\n"
     ]
    }
   ],
   "source": [
    "print(f\"Content: {doc.page_content}\\nMetadata: {doc.metadata}\")"
   ]
  },
  {
   "cell_type": "code",
   "execution_count": 11,
   "metadata": {},
   "outputs": [],
   "source": [
    "import os\n",
    "os.makedirs(\"../data/text\",exist_ok=True)"
   ]
  },
  {
   "cell_type": "code",
   "execution_count": 13,
   "metadata": {},
   "outputs": [
    {
     "name": "stdout",
     "output_type": "stream",
     "text": [
      "Sample text files created in ../data/text/\n"
     ]
    }
   ],
   "source": [
    "sample_texts={\n",
    "    \"../data/text/python_intro.txt\":\"\"\"Python Programming Introduction\n",
    "\n",
    "Python is a high-level, interpreted programming language known for its simplicity and readability.\n",
    "Created by Guido van Rossum and first released in 1991, Python has become one of the most popular\n",
    "programming languages in the world.\n",
    "\n",
    "Key Features:\n",
    "- Easy to learn and use\n",
    "- Extensive standard library\n",
    "- Cross-platform compatibility\n",
    "- Strong community support\n",
    "\n",
    "Python is widely used in web development, data science, artificial intelligence, and automation.\"\"\",\n",
    "    \n",
    "    \"../data/text/machine_learning.txt\": \"\"\"Machine Learning Basics\n",
    "\n",
    "Machine learning is a subset of artificial intelligence that enables systems to learn and improve\n",
    "from experience without being explicitly programmed. It focuses on developing computer programs\n",
    "that can access data and use it to learn for themselves.\n",
    "\n",
    "Types of Machine Learning:\n",
    "1. Supervised Learning: Learning with labeled data\n",
    "2. Unsupervised Learning: Finding patterns in unlabeled data\n",
    "3. Reinforcement Learning: Learning through rewards and penalties\n",
    "\n",
    "Applications include image recognition, speech processing, and recommendation systems\n",
    "    \n",
    "    \n",
    "    \"\"\"\n",
    "\n",
    "}\n",
    "\n",
    "for filepath, content in sample_texts.items():\n",
    "    with open(filepath, \"w\") as f:\n",
    "        f.write(content)\n",
    "\n",
    "print(\"Sample text files created in ../data/text/\")"
   ]
  },
  {
   "cell_type": "markdown",
   "metadata": {},
   "source": [
    "### Langchain TextLoader"
   ]
  },
  {
   "cell_type": "markdown",
   "metadata": {},
   "source": [
    "Load single file"
   ]
  },
  {
   "cell_type": "code",
   "execution_count": 15,
   "metadata": {},
   "outputs": [],
   "source": [
    "from langchain_community.document_loaders import TextLoader"
   ]
  },
  {
   "cell_type": "code",
   "execution_count": 16,
   "metadata": {},
   "outputs": [
    {
     "name": "stdout",
     "output_type": "stream",
     "text": [
      "[Document(metadata={'source': '../data/text/machine_learning.txt'}, page_content='Machine Learning Basics\\n\\nMachine learning is a subset of artificial intelligence that enables systems to learn and improve\\nfrom experience without being explicitly programmed. It focuses on developing computer programs\\nthat can access data and use it to learn for themselves.\\n\\nTypes of Machine Learning:\\n1. Supervised Learning: Learning with labeled data\\n2. Unsupervised Learning: Finding patterns in unlabeled data\\n3. Reinforcement Learning: Learning through rewards and penalties\\n\\nApplications include image recognition, speech processing, and recommendation systems\\n\\n\\n    ')]\n"
     ]
    }
   ],
   "source": [
    "loader = TextLoader(\"../data/text/machine_learning.txt\", encoding = \"utf-8\")\n",
    "document = loader.load()\n",
    "print(document)"
   ]
  },
  {
   "cell_type": "code",
   "execution_count": 18,
   "metadata": {},
   "outputs": [
    {
     "name": "stdout",
     "output_type": "stream",
     "text": [
      "Sample text document:\n",
      "Content: Machine Learning Basics\n",
      "\n",
      "Machine learning is a subset of artificial intelligence that enables systems to learn and improve\n",
      "from experience without being explicitly programmed. It focuses on developing computer programs\n",
      "that can access data and use it to learn for themselves.\n",
      "\n",
      "Types of Machine Learning:\n",
      "1. Supervised Learning: Learning with labeled data\n",
      "2. Unsupervised Learning: Finding patterns in unlabeled data\n",
      "3. Reinforcement Learning: Learning through rewards and penalties\n",
      "\n",
      "Applications include image recognition, speech processing, and recommendation systems\n",
      "\n",
      "\n",
      "    \n",
      "Metadata: {'source': '../data/text/machine_learning.txt'}\n"
     ]
    }
   ],
   "source": [
    "print(f\"Sample text document:\\nContent: {document[0].page_content}\\nMetadata: {document[0].metadata}\")"
   ]
  },
  {
   "cell_type": "markdown",
   "metadata": {},
   "source": [
    "load direction"
   ]
  },
  {
   "cell_type": "code",
   "execution_count": 20,
   "metadata": {},
   "outputs": [],
   "source": [
    "from langchain_community.document_loaders import DirectoryLoader"
   ]
  },
  {
   "cell_type": "code",
   "execution_count": 29,
   "metadata": {},
   "outputs": [
    {
     "name": "stderr",
     "output_type": "stream",
     "text": [
      "100%|██████████| 3/3 [00:00<00:00, 144.13it/s]"
     ]
    },
    {
     "name": "stdout",
     "output_type": "stream",
     "text": [
      "<class 'list'>\n",
      "Document 1: \n",
      "Content: Machine Learning Basics\n",
      "\n",
      "Machine learning is a subset of artificial intelligence that enables systems to learn and improve\n",
      "from experience without being explicitly programmed. It focuses on developing computer programs\n",
      "that can access data and use it to learn for themselves.\n",
      "\n",
      "Types of Machine Learning:\n",
      "1. Supervised Learning: Learning with labeled data\n",
      "2. Unsupervised Learning: Finding patterns in unlabeled data\n",
      "3. Reinforcement Learning: Learning through rewards and penalties\n",
      "\n",
      "Applications include image recognition, speech processing, and recommendation systems\n",
      "\n",
      "\n",
      "     \n",
      "Metadata: {'source': '..\\\\data\\\\text\\\\machine_learning.txt'}\n",
      "==================================================\n",
      "Document 2: \n",
      "Content: Python Programming Introduction\n",
      "\n",
      "Python is a high-level, interpreted programming language known for its simplicity and readability.\n",
      "Created by Guido van Rossum and first released in 1991, Python has become one of the most popular\n",
      "programming languages in the world.\n",
      "\n",
      "Key Features:\n",
      "- Easy to learn and use\n",
      "- Extensive standard library\n",
      "- Cross-platform compatibility\n",
      "- Strong community support\n",
      "\n",
      "Python is widely used in web development, data science, artificial intelligence, and automation. \n",
      "Metadata: {'source': '..\\\\data\\\\text\\\\python_intro.txt'}\n",
      "==================================================\n",
      "Document 3: \n",
      "Content: Leonardo di ser Piero da Vinci[b] (15 April 1452 – 2 May 1519) was an Italian polymath of the High Renaissance who was active as a painter, draughtsman, engineer, scientist, theorist, sculptor, and architect.[3] While his fame initially rested on his achievements as a painter, he has also become known for his notebooks, in which he made drawings and notes on a variety of subjects, including anatomy, astronomy, botany, cartography, painting, and palaeontology. Leonardo is widely regarded to have been a genius who epitomised the Renaissance humanist ideal,[4] and his collective works comprise a contribution to later generations of artists matched only by that of his younger contemporary Michelangelo \n",
      "Metadata: {'source': '..\\\\data\\\\text\\\\sample.txt'}\n",
      "==================================================\n"
     ]
    },
    {
     "name": "stderr",
     "output_type": "stream",
     "text": [
      "\n"
     ]
    }
   ],
   "source": [
    "dir_loader = DirectoryLoader(\n",
    "    path = \"../data/text/\",\n",
    "    glob = \"*.txt\",\n",
    "    loader_cls = TextLoader, # specify the loader class to use\n",
    "    loader_kwargs = {'encoding':'utf-8'},\n",
    "    show_progress = True\n",
    ")\n",
    "\n",
    "documents = dir_loader.load()\n",
    "print(type(documents))\n",
    "for i, document in enumerate(documents):\n",
    "    print(f\"Document {i + 1}: \\nContent: {document.page_content} \\nMetadata: {document.metadata}\")\n",
    "    print(\"=\" * 50)"
   ]
  },
  {
   "cell_type": "markdown",
   "metadata": {},
   "source": [
    "### Langchain PyPDFLoader, PyMuPDFLoader"
   ]
  },
  {
   "cell_type": "code",
   "execution_count": 30,
   "metadata": {},
   "outputs": [],
   "source": [
    "from langchain_community.document_loaders import PyPDFLoader, PyMuPDFLoader"
   ]
  },
  {
   "cell_type": "code",
   "execution_count": 36,
   "metadata": {},
   "outputs": [
    {
     "name": "stderr",
     "output_type": "stream",
     "text": [
      "100%|██████████| 3/3 [00:00<00:00, 13.11it/s]"
     ]
    },
    {
     "name": "stdout",
     "output_type": "stream",
     "text": [
      "<class 'list'>\n"
     ]
    },
    {
     "name": "stderr",
     "output_type": "stream",
     "text": [
      "\n"
     ]
    }
   ],
   "source": [
    "dir_loader = DirectoryLoader(\n",
    "    path = \"../data/pdf/\",\n",
    "    glob = \"*.pdf\",\n",
    "    loader_cls = PyMuPDFLoader, # specify the loader class to use\n",
    "    show_progress = True\n",
    ")\n",
    "\n",
    "documents = dir_loader.load()\n",
    "print(type(documents))  "
   ]
  },
  {
   "cell_type": "code",
   "execution_count": 45,
   "metadata": {},
   "outputs": [
    {
     "name": "stdout",
     "output_type": "stream",
     "text": [
      "Document 1: \n",
      "Content: Attention Is All You Need\n",
      "Ashish Vaswani∗\n",
      "Google B \n",
      "Metadata: {'producer': 'PyPDF2', 'creator': '', 'creationdate': '', 'source': '..\\\\data\\\\pdf\\\\attention-is-all-you-need.pdf', 'file_path': '..\\\\data\\\\pdf\\\\attention-is-all-you-need.pdf', 'total_pages': 11, 'format': 'PDF 1.3', 'title': 'Attention is All you Need', 'author': 'Ashish Vaswani, Noam Shazeer, Niki Parmar, Jakob Uszkoreit, Llion Jones, Aidan N. Gomez, Łukasz Kaiser, Illia Polosukhin', 'subject': 'Neural Information Processing Systems http://nips.cc/', 'keywords': '', 'moddate': '2018-02-12T21:22:10-08:00', 'trapped': '', 'modDate': \"D:20180212212210-08'00'\", 'creationDate': '', 'page': 0}\n",
      "2907\n",
      "==================================================\n",
      "Document 2: \n",
      "Content: Recurrent models typically factor computation alon \n",
      "Metadata: {'producer': 'PyPDF2', 'creator': '', 'creationdate': '', 'source': '..\\\\data\\\\pdf\\\\attention-is-all-you-need.pdf', 'file_path': '..\\\\data\\\\pdf\\\\attention-is-all-you-need.pdf', 'total_pages': 11, 'format': 'PDF 1.3', 'title': 'Attention is All you Need', 'author': 'Ashish Vaswani, Noam Shazeer, Niki Parmar, Jakob Uszkoreit, Llion Jones, Aidan N. Gomez, Łukasz Kaiser, Illia Polosukhin', 'subject': 'Neural Information Processing Systems http://nips.cc/', 'keywords': '', 'moddate': '2018-02-12T21:22:10-08:00', 'trapped': '', 'modDate': \"D:20180212212210-08'00'\", 'creationDate': '', 'page': 1}\n",
      "4253\n",
      "==================================================\n",
      "Document 3: \n",
      "Content: Figure 1: The Transformer - model architecture.\n",
      "wi \n",
      "Metadata: {'producer': 'PyPDF2', 'creator': '', 'creationdate': '', 'source': '..\\\\data\\\\pdf\\\\attention-is-all-you-need.pdf', 'file_path': '..\\\\data\\\\pdf\\\\attention-is-all-you-need.pdf', 'total_pages': 11, 'format': 'PDF 1.3', 'title': 'Attention is All you Need', 'author': 'Ashish Vaswani, Noam Shazeer, Niki Parmar, Jakob Uszkoreit, Llion Jones, Aidan N. Gomez, Łukasz Kaiser, Illia Polosukhin', 'subject': 'Neural Information Processing Systems http://nips.cc/', 'keywords': '', 'moddate': '2018-02-12T21:22:10-08:00', 'trapped': '', 'modDate': \"D:20180212212210-08'00'\", 'creationDate': '', 'page': 2}\n",
      "1755\n",
      "==================================================\n",
      "Document 4: \n",
      "Content: Scaled Dot-Product Attention\n",
      "Multi-Head Attention\n",
      " \n",
      "Metadata: {'producer': 'PyPDF2', 'creator': '', 'creationdate': '', 'source': '..\\\\data\\\\pdf\\\\attention-is-all-you-need.pdf', 'file_path': '..\\\\data\\\\pdf\\\\attention-is-all-you-need.pdf', 'total_pages': 11, 'format': 'PDF 1.3', 'title': 'Attention is All you Need', 'author': 'Ashish Vaswani, Noam Shazeer, Niki Parmar, Jakob Uszkoreit, Llion Jones, Aidan N. Gomez, Łukasz Kaiser, Illia Polosukhin', 'subject': 'Neural Information Processing Systems http://nips.cc/', 'keywords': '', 'moddate': '2018-02-12T21:22:10-08:00', 'trapped': '', 'modDate': \"D:20180212212210-08'00'\", 'creationDate': '', 'page': 3}\n",
      "2448\n",
      "==================================================\n",
      "Document 5: \n",
      "Content: MultiHead(Q, K, V ) = Concat(head1, ..., headh)W O \n",
      "Metadata: {'producer': 'PyPDF2', 'creator': '', 'creationdate': '', 'source': '..\\\\data\\\\pdf\\\\attention-is-all-you-need.pdf', 'file_path': '..\\\\data\\\\pdf\\\\attention-is-all-you-need.pdf', 'total_pages': 11, 'format': 'PDF 1.3', 'title': 'Attention is All you Need', 'author': 'Ashish Vaswani, Noam Shazeer, Niki Parmar, Jakob Uszkoreit, Llion Jones, Aidan N. Gomez, Łukasz Kaiser, Illia Polosukhin', 'subject': 'Neural Information Processing Systems http://nips.cc/', 'keywords': '', 'moddate': '2018-02-12T21:22:10-08:00', 'trapped': '', 'modDate': \"D:20180212212210-08'00'\", 'creationDate': '', 'page': 4}\n",
      "3206\n",
      "==================================================\n",
      "Document 6: \n",
      "Content: Table 1: Maximum path lengths, per-layer complexit \n",
      "Metadata: {'producer': 'PyPDF2', 'creator': '', 'creationdate': '', 'source': '..\\\\data\\\\pdf\\\\attention-is-all-you-need.pdf', 'file_path': '..\\\\data\\\\pdf\\\\attention-is-all-you-need.pdf', 'total_pages': 11, 'format': 'PDF 1.3', 'title': 'Attention is All you Need', 'author': 'Ashish Vaswani, Noam Shazeer, Niki Parmar, Jakob Uszkoreit, Llion Jones, Aidan N. Gomez, Łukasz Kaiser, Illia Polosukhin', 'subject': 'Neural Information Processing Systems http://nips.cc/', 'keywords': '', 'moddate': '2018-02-12T21:22:10-08:00', 'trapped': '', 'modDate': \"D:20180212212210-08'00'\", 'creationDate': '', 'page': 5}\n",
      "3544\n",
      "==================================================\n",
      "Document 7: \n",
      "Content: the input sequence centered around the respective  \n",
      "Metadata: {'producer': 'PyPDF2', 'creator': '', 'creationdate': '', 'source': '..\\\\data\\\\pdf\\\\attention-is-all-you-need.pdf', 'file_path': '..\\\\data\\\\pdf\\\\attention-is-all-you-need.pdf', 'total_pages': 11, 'format': 'PDF 1.3', 'title': 'Attention is All you Need', 'author': 'Ashish Vaswani, Noam Shazeer, Niki Parmar, Jakob Uszkoreit, Llion Jones, Aidan N. Gomez, Łukasz Kaiser, Illia Polosukhin', 'subject': 'Neural Information Processing Systems http://nips.cc/', 'keywords': '', 'moddate': '2018-02-12T21:22:10-08:00', 'trapped': '', 'modDate': \"D:20180212212210-08'00'\", 'creationDate': '', 'page': 6}\n",
      "3227\n",
      "==================================================\n",
      "Document 8: \n",
      "Content: Table 2: The Transformer achieves better BLEU scor \n",
      "Metadata: {'producer': 'PyPDF2', 'creator': '', 'creationdate': '', 'source': '..\\\\data\\\\pdf\\\\attention-is-all-you-need.pdf', 'file_path': '..\\\\data\\\\pdf\\\\attention-is-all-you-need.pdf', 'total_pages': 11, 'format': 'PDF 1.3', 'title': 'Attention is All you Need', 'author': 'Ashish Vaswani, Noam Shazeer, Niki Parmar, Jakob Uszkoreit, Llion Jones, Aidan N. Gomez, Łukasz Kaiser, Illia Polosukhin', 'subject': 'Neural Information Processing Systems http://nips.cc/', 'keywords': '', 'moddate': '2018-02-12T21:22:10-08:00', 'trapped': '', 'modDate': \"D:20180212212210-08'00'\", 'creationDate': '', 'page': 7}\n",
      "3327\n",
      "==================================================\n",
      "Document 9: \n",
      "Content: Table 3: Variations on the Transformer architectur \n",
      "Metadata: {'producer': 'PyPDF2', 'creator': '', 'creationdate': '', 'source': '..\\\\data\\\\pdf\\\\attention-is-all-you-need.pdf', 'file_path': '..\\\\data\\\\pdf\\\\attention-is-all-you-need.pdf', 'total_pages': 11, 'format': 'PDF 1.3', 'title': 'Attention is All you Need', 'author': 'Ashish Vaswani, Noam Shazeer, Niki Parmar, Jakob Uszkoreit, Llion Jones, Aidan N. Gomez, Łukasz Kaiser, Illia Polosukhin', 'subject': 'Neural Information Processing Systems http://nips.cc/', 'keywords': '', 'moddate': '2018-02-12T21:22:10-08:00', 'trapped': '', 'modDate': \"D:20180212212210-08'00'\", 'creationDate': '', 'page': 8}\n",
      "2617\n",
      "==================================================\n",
      "Document 10: \n",
      "Content: References\n",
      "[1] Jimmy Lei Ba, Jamie Ryan Kiros, and \n",
      "Metadata: {'producer': 'PyPDF2', 'creator': '', 'creationdate': '', 'source': '..\\\\data\\\\pdf\\\\attention-is-all-you-need.pdf', 'file_path': '..\\\\data\\\\pdf\\\\attention-is-all-you-need.pdf', 'total_pages': 11, 'format': 'PDF 1.3', 'title': 'Attention is All you Need', 'author': 'Ashish Vaswani, Noam Shazeer, Niki Parmar, Jakob Uszkoreit, Llion Jones, Aidan N. Gomez, Łukasz Kaiser, Illia Polosukhin', 'subject': 'Neural Information Processing Systems http://nips.cc/', 'keywords': '', 'moddate': '2018-02-12T21:22:10-08:00', 'trapped': '', 'modDate': \"D:20180212212210-08'00'\", 'creationDate': '', 'page': 9}\n",
      "3089\n",
      "==================================================\n",
      "Document 11: \n",
      "Content: [21] Minh-Thang Luong, Hieu Pham, and Christopher  \n",
      "Metadata: {'producer': 'PyPDF2', 'creator': '', 'creationdate': '', 'source': '..\\\\data\\\\pdf\\\\attention-is-all-you-need.pdf', 'file_path': '..\\\\data\\\\pdf\\\\attention-is-all-you-need.pdf', 'total_pages': 11, 'format': 'PDF 1.3', 'title': 'Attention is All you Need', 'author': 'Ashish Vaswani, Noam Shazeer, Niki Parmar, Jakob Uszkoreit, Llion Jones, Aidan N. Gomez, Łukasz Kaiser, Illia Polosukhin', 'subject': 'Neural Information Processing Systems http://nips.cc/', 'keywords': '', 'moddate': '2018-02-12T21:22:10-08:00', 'trapped': '', 'modDate': \"D:20180212212210-08'00'\", 'creationDate': '', 'page': 10}\n",
      "2325\n",
      "==================================================\n",
      "Document 12: \n",
      "Content: Deep Residual Learning for Image Recognition\n",
      "Kaimi \n",
      "Metadata: {'producer': 'PyPDF2', 'creator': '', 'creationdate': '', 'source': '..\\\\data\\\\pdf\\\\Deep_Residual_Learning_CVPR_2016_paper.pdf', 'file_path': '..\\\\data\\\\pdf\\\\Deep_Residual_Learning_CVPR_2016_paper.pdf', 'total_pages': 9, 'format': 'PDF 1.3', 'title': 'Deep Residual Learning for Image Recognition', 'author': 'Kaiming He, Xiangyu Zhang, Shaoqing Ren, Jian Sun', 'subject': '2016 IEEE Conference on Computer Vision and Pattern Recognition', 'keywords': '', 'moddate': '', 'trapped': '', 'modDate': '', 'creationDate': '', 'page': 0}\n",
      "4244\n",
      "==================================================\n",
      "Document 13: \n",
      "Content: identity\n",
      "weight layer\n",
      "weight layer\n",
      "relu\n",
      "relu\n",
      "F(x)\u0001 \n",
      "Metadata: {'producer': 'PyPDF2', 'creator': '', 'creationdate': '', 'source': '..\\\\data\\\\pdf\\\\Deep_Residual_Learning_CVPR_2016_paper.pdf', 'file_path': '..\\\\data\\\\pdf\\\\Deep_Residual_Learning_CVPR_2016_paper.pdf', 'total_pages': 9, 'format': 'PDF 1.3', 'title': 'Deep Residual Learning for Image Recognition', 'author': 'Kaiming He, Xiangyu Zhang, Shaoqing Ren, Jian Sun', 'subject': '2016 IEEE Conference on Computer Vision and Pattern Recognition', 'keywords': '', 'moddate': '', 'trapped': '', 'modDate': '', 'creationDate': '', 'page': 1}\n",
      "5454\n",
      "==================================================\n",
      "Document 14: \n",
      "Content: way networks have not demonstrated accuracy gains  \n",
      "Metadata: {'producer': 'PyPDF2', 'creator': '', 'creationdate': '', 'source': '..\\\\data\\\\pdf\\\\Deep_Residual_Learning_CVPR_2016_paper.pdf', 'file_path': '..\\\\data\\\\pdf\\\\Deep_Residual_Learning_CVPR_2016_paper.pdf', 'total_pages': 9, 'format': 'PDF 1.3', 'title': 'Deep Residual Learning for Image Recognition', 'author': 'Kaiming He, Xiangyu Zhang, Shaoqing Ren, Jian Sun', 'subject': '2016 IEEE Conference on Computer Vision and Pattern Recognition', 'keywords': '', 'moddate': '', 'trapped': '', 'modDate': '', 'creationDate': '', 'page': 2}\n",
      "5400\n",
      "==================================================\n",
      "Document 15: \n",
      "Content: 7x7 conv, 64, /2\n",
      "pool, /2\n",
      "3x3 conv, 64\n",
      "3x3 conv, 6 \n",
      "Metadata: {'producer': 'PyPDF2', 'creator': '', 'creationdate': '', 'source': '..\\\\data\\\\pdf\\\\Deep_Residual_Learning_CVPR_2016_paper.pdf', 'file_path': '..\\\\data\\\\pdf\\\\Deep_Residual_Learning_CVPR_2016_paper.pdf', 'total_pages': 9, 'format': 'PDF 1.3', 'title': 'Deep Residual Learning for Image Recognition', 'author': 'Kaiming He, Xiangyu Zhang, Shaoqing Ren, Jian Sun', 'subject': '2016 IEEE Conference on Computer Vision and Pattern Recognition', 'keywords': '', 'moddate': '', 'trapped': '', 'modDate': '', 'creationDate': '', 'page': 3}\n",
      "4561\n",
      "==================================================\n",
      "Document 16: \n",
      "Content: layer name output size\n",
      "18-layer\n",
      "34-layer\n",
      "50-layer\n",
      " \n",
      "Metadata: {'producer': 'PyPDF2', 'creator': '', 'creationdate': '', 'source': '..\\\\data\\\\pdf\\\\Deep_Residual_Learning_CVPR_2016_paper.pdf', 'file_path': '..\\\\data\\\\pdf\\\\Deep_Residual_Learning_CVPR_2016_paper.pdf', 'total_pages': 9, 'format': 'PDF 1.3', 'title': 'Deep Residual Learning for Image Recognition', 'author': 'Kaiming He, Xiangyu Zhang, Shaoqing Ren, Jian Sun', 'subject': '2016 IEEE Conference on Computer Vision and Pattern Recognition', 'keywords': '', 'moddate': '', 'trapped': '', 'modDate': '', 'creationDate': '', 'page': 4}\n",
      "3885\n",
      "==================================================\n",
      "Document 17: \n",
      "Content: model\n",
      "top-1 err.\n",
      "top-5 err.\n",
      "VGG-16 [40]\n",
      "28.07\n",
      "9.33 \n",
      "Metadata: {'producer': 'PyPDF2', 'creator': '', 'creationdate': '', 'source': '..\\\\data\\\\pdf\\\\Deep_Residual_Learning_CVPR_2016_paper.pdf', 'file_path': '..\\\\data\\\\pdf\\\\Deep_Residual_Learning_CVPR_2016_paper.pdf', 'total_pages': 9, 'format': 'PDF 1.3', 'title': 'Deep Residual Learning for Image Recognition', 'author': 'Kaiming He, Xiangyu Zhang, Shaoqing Ren, Jian Sun', 'subject': '2016 IEEE Conference on Computer Vision and Pattern Recognition', 'keywords': '', 'moddate': '', 'trapped': '', 'modDate': '', 'creationDate': '', 'page': 5}\n",
      "4557\n",
      "==================================================\n",
      "Document 18: \n",
      "Content: 34-layer net with this 3-layer bottleneck block, r \n",
      "Metadata: {'producer': 'PyPDF2', 'creator': '', 'creationdate': '', 'source': '..\\\\data\\\\pdf\\\\Deep_Residual_Learning_CVPR_2016_paper.pdf', 'file_path': '..\\\\data\\\\pdf\\\\Deep_Residual_Learning_CVPR_2016_paper.pdf', 'total_pages': 9, 'format': 'PDF 1.3', 'title': 'Deep Residual Learning for Image Recognition', 'author': 'Kaiming He, Xiangyu Zhang, Shaoqing Ren, Jian Sun', 'subject': '2016 IEEE Conference on Computer Vision and Pattern Recognition', 'keywords': '', 'moddate': '', 'trapped': '', 'modDate': '', 'creationDate': '', 'page': 6}\n",
      "5076\n",
      "==================================================\n",
      "Document 19: \n",
      "Content: 0\n",
      "1\n",
      "2\n",
      "3\n",
      "4\n",
      "5\n",
      "6\n",
      "0\n",
      "5\n",
      "10\n",
      "20\n",
      "iter. (1e4)\n",
      "error (%)\n",
      "plai \n",
      "Metadata: {'producer': 'PyPDF2', 'creator': '', 'creationdate': '', 'source': '..\\\\data\\\\pdf\\\\Deep_Residual_Learning_CVPR_2016_paper.pdf', 'file_path': '..\\\\data\\\\pdf\\\\Deep_Residual_Learning_CVPR_2016_paper.pdf', 'total_pages': 9, 'format': 'PDF 1.3', 'title': 'Deep Residual Learning for Image Recognition', 'author': 'Kaiming He, Xiangyu Zhang, Shaoqing Ren, Jian Sun', 'subject': '2016 IEEE Conference on Computer Vision and Pattern Recognition', 'keywords': '', 'moddate': '', 'trapped': '', 'modDate': '', 'creationDate': '', 'page': 7}\n",
      "4364\n",
      "==================================================\n",
      "Document 20: \n",
      "Content: References\n",
      "[1] Y. Bengio, P. Simard, and P. Frasco \n",
      "Metadata: {'producer': 'PyPDF2', 'creator': '', 'creationdate': '', 'source': '..\\\\data\\\\pdf\\\\Deep_Residual_Learning_CVPR_2016_paper.pdf', 'file_path': '..\\\\data\\\\pdf\\\\Deep_Residual_Learning_CVPR_2016_paper.pdf', 'total_pages': 9, 'format': 'PDF 1.3', 'title': 'Deep Residual Learning for Image Recognition', 'author': 'Kaiming He, Xiangyu Zhang, Shaoqing Ren, Jian Sun', 'subject': '2016 IEEE Conference on Computer Vision and Pattern Recognition', 'keywords': '', 'moddate': '', 'trapped': '', 'modDate': '', 'creationDate': '', 'page': 8}\n",
      "6262\n",
      "==================================================\n",
      "Document 21: \n",
      "Content: Genetic Algorithms\n",
      "STEPHANIE FORREST\n",
      "Department of \n",
      "Metadata: {'producer': 'Acrobat Distiller 2.0 for Power Macintosh; modified using iText 4.2.0 by 1T3XT', 'creator': '', 'creationdate': 'D:19960612123822', 'source': '..\\\\data\\\\pdf\\\\Generic Algorithm.pdf', 'file_path': '..\\\\data\\\\pdf\\\\Generic Algorithm.pdf', 'total_pages': 4, 'format': 'PDF 1.4', 'title': 'Genetic algorithms', 'author': '', 'subject': 'ACM Comput. Surv. 1996.28:77-80', 'keywords': '', 'moddate': '2025-10-17T04:56:14-07:00', 'trapped': '', 'modDate': \"D:20251017045614-07'00'\", 'creationDate': 'D:19960612123822', 'page': 0}\n",
      "3574\n",
      "==================================================\n",
      "Document 22: \n",
      "Content: (1010100111) zero copies. After selec-\n",
      "tion, the g \n",
      "Metadata: {'producer': 'Acrobat Distiller 2.0 for Power Macintosh; modified using iText 4.2.0 by 1T3XT', 'creator': '', 'creationdate': 'D:19960612123822', 'source': '..\\\\data\\\\pdf\\\\Generic Algorithm.pdf', 'file_path': '..\\\\data\\\\pdf\\\\Generic Algorithm.pdf', 'total_pages': 4, 'format': 'PDF 1.4', 'title': 'Genetic algorithms', 'author': '', 'subject': 'ACM Comput. Surv. 1996.28:77-80', 'keywords': '', 'moddate': '2025-10-17T04:56:14-07:00', 'trapped': '', 'modDate': \"D:20251017045614-07'00'\", 'creationDate': 'D:19960612123822', 'page': 1}\n",
      "2768\n",
      "==================================================\n",
      "Document 23: \n",
      "Content: problems such as circuit design and job\n",
      "shop\n",
      "sched \n",
      "Metadata: {'producer': 'Acrobat Distiller 2.0 for Power Macintosh; modified using iText 4.2.0 by 1T3XT', 'creator': '', 'creationdate': 'D:19960612123822', 'source': '..\\\\data\\\\pdf\\\\Generic Algorithm.pdf', 'file_path': '..\\\\data\\\\pdf\\\\Generic Algorithm.pdf', 'total_pages': 4, 'format': 'PDF 1.4', 'title': 'Genetic algorithms', 'author': '', 'subject': 'ACM Comput. Surv. 1996.28:77-80', 'keywords': '', 'moddate': '2025-10-17T04:56:14-07:00', 'trapped': '', 'modDate': \"D:20251017045614-07'00'\", 'creationDate': 'D:19960612123822', 'page': 2}\n",
      "4110\n",
      "==================================================\n",
      "Document 24: \n",
      "Content: and which algorithms are best for which\n",
      "problems.\n",
      " \n",
      "Metadata: {'producer': 'Acrobat Distiller 2.0 for Power Macintosh; modified using iText 4.2.0 by 1T3XT', 'creator': '', 'creationdate': 'D:19960612123822', 'source': '..\\\\data\\\\pdf\\\\Generic Algorithm.pdf', 'file_path': '..\\\\data\\\\pdf\\\\Generic Algorithm.pdf', 'total_pages': 4, 'format': 'PDF 1.4', 'title': 'Genetic algorithms', 'author': '', 'subject': 'ACM Comput. Surv. 1996.28:77-80', 'keywords': '', 'moddate': '2025-10-17T04:56:14-07:00', 'trapped': '', 'modDate': \"D:20251017045614-07'00'\", 'creationDate': 'D:19960612123822', 'page': 3}\n",
      "1190\n",
      "==================================================\n"
     ]
    }
   ],
   "source": [
    "for i, document in enumerate(documents):\n",
    "    print(f\"Document {i + 1}: \\nContent: {document.page_content[:50]} \\nMetadata: {document.metadata}\")\n",
    "    print(len(document.page_content))\n",
    "    print(\"=\" * 50)"
   ]
  }
 ],
 "metadata": {
  "kernelspec": {
   "display_name": ".venv",
   "language": "python",
   "name": "python3"
  },
  "language_info": {
   "codemirror_mode": {
    "name": "ipython",
    "version": 3
   },
   "file_extension": ".py",
   "mimetype": "text/x-python",
   "name": "python",
   "nbconvert_exporter": "python",
   "pygments_lexer": "ipython3",
   "version": "3.13.5"
  }
 },
 "nbformat": 4,
 "nbformat_minor": 2
}
